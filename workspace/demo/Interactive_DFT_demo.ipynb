{
 "cells": [
  {
   "cell_type": "markdown",
   "metadata": {},
   "source": [
    "# An interactive demonstration of image filtering with Discrete Fourier Transform\n",
    "\n",
    "Based on OpenCV and xwidges running in Jupyter Notebook with xeus-cling C++ 14 kernel"
   ]
  },
  {
   "cell_type": "code",
   "execution_count": 1,
   "metadata": {},
   "outputs": [],
   "source": [
    "#include <jupyter/opencv>\n",
    "#include <opencv2/core.hpp>\n",
    "#include <opencv2/imgproc.hpp>\n",
    "#include \"HeplerFuncs.hpp\"\n",
    "\n",
    "using namespace cv;"
   ]
  },
  {
   "cell_type": "code",
   "execution_count": 2,
   "metadata": {},
   "outputs": [],
   "source": [
    "inline void displayImages(const Mat& img1, const Mat& img2) {\n",
    "    const int border = 10;\n",
    "    Size canvasSize(img1.cols + img2.cols + border, max(img1.rows, img2.rows));\n",
    "    cv::Mat canvas(canvasSize, CV_8UC3);\n",
    "    canvas.setTo(Scalar::all(255));\n",
    "\n",
    "    cv::Mat rgbImage = makeRGB(img1);\n",
    "    rgbImage.copyTo(canvas(Rect(0, 0, img1.cols, img1.rows)));\n",
    "    rgbImage = makeRGB(img2);\n",
    "\n",
    "    rgbImage.copyTo(canvas(Rect(img1.cols + border, 0, img2.cols, img2.rows)));\n",
    "    im::mat_show(canvas);\n",
    "}"
   ]
  },
  {
   "cell_type": "code",
   "execution_count": 3,
   "metadata": {},
   "outputs": [],
   "source": [
    "// Load and prepare the image that will be filtered\n",
    "const int imageSize = 512;\n",
    "\n",
    "Mat hummingbirdImage = imread(\"hb_1024.png\", IMREAD_GRAYSCALE);\n",
    "hummingbirdImage.convertTo(hummingbirdImage, CV_32FC1, 1.0 / 255.0);\n",
    "resize(hummingbirdImage, hummingbirdImage, Size(imageSize, imageSize));"
   ]
  },
  {
   "cell_type": "markdown",
   "metadata": {},
   "source": [
    "# Discrete Fourier Transform\n",
    "### $$ f(k) = \\sum_{n=0}^{N-1}{s(n)\\cdot e^{-ikn\\frac{2\\pi}{N}}} = \\sum_{n=0}^{N-1}{s(n)[cos(kn{\\frac{2\\pi}{N}}) -i\\cdot sin(kn{\\frac{2\\pi}{N}})]}$$\n",
    "# 2D Discrete Fourier Transform\n",
    "### $$ f(k, l) = \\sum_{m=0}^{M-1}\\sum_{n=0}^{N-1}{s(m, n)\\cdot e^{-i2\\pi(\\frac{km}{M}+\\frac{ln}{N})}} $$\n",
    "### $$ f(k, l) =  \\sum_{m=0}^{M-1}\\sum_{n=0}^{N-1}{s(m, n)[cos(2\\pi(\\frac{km}{M}+\\frac{ln}{N})) -i\\cdot sin(2\\pi(\\frac{km}{M}+\\frac{ln}{N}))]}$$"
   ]
  },
  {
   "cell_type": "markdown",
   "metadata": {},
   "source": [
    "# The image filtering will be performed in the frequency domain\n",
    "### $$ filteredImage = iDFT2D(element\\_wise\\_multiply(DFT2D(image), filter))$$"
   ]
  },
  {
   "cell_type": "code",
   "execution_count": 4,
   "metadata": {},
   "outputs": [],
   "source": [
    "inline cv::Mat dft2dFilter(const cv::Mat& src, const cv::Mat& filter) {\n",
    "    CV_Assert(src.size() == filter.size());\n",
    "    CV_Assert_2(isPowerOf2(src.cols), isPowerOf2(filter.rows));\n",
    "    CV_Assert_2(src.type() == CV_32F, filter.type() == CV_32F);\n",
    "\n",
    "    cv::Mat matWithZeroes = cv::Mat::zeros(src.size(), CV_32F);\n",
    "    cv::Mat complexInput1, complexOutput1;\n",
    "    {\n",
    "        cv::Mat planes[] = { src,  matWithZeroes };\n",
    "        merge(planes, 2, complexInput1);\n",
    "    }\n",
    "    dft(complexInput1, complexOutput1, cv::DFT_SCALE | cv::DFT_COMPLEX_OUTPUT | cv::DFT_COMPLEX_INPUT);\n",
    "\n",
    "    cv::Mat complexFilter;\n",
    "    {\n",
    "        cv::Mat planes[] = { filter,  filter };\n",
    "        merge(planes, 2, complexFilter);\n",
    "    }\n",
    "\n",
    "    shiftFromCornerToCenter(complexFilter);\n",
    "\n",
    "    cv::Mat frequencyDomainResult(src.size(), CV_32FC2);\n",
    "    mulSpectrums(complexOutput1, complexFilter, frequencyDomainResult, 0);\n",
    "\n",
    "    cv::Mat finalImage;\n",
    "    idft(frequencyDomainResult, finalImage, cv::DFT_COMPLEX_OUTPUT);\n",
    "\n",
    "    // Calculate the magnitude\n",
    "    {\n",
    "        cv::Mat planes[] = { cv::Mat(finalImage.size(), CV_32F), cv::Mat(finalImage.size(), CV_32F) };\n",
    "        split(finalImage, planes);                   // planes[0] = Re(DFT(I), planes[1] = Im(DFT(I))\n",
    "        magnitude(planes[0], planes[1], finalImage); // finalImage = magnitude\n",
    "    }\n",
    "    \n",
    "    return finalImage;\n",
    "}\n"
   ]
  },
  {
   "cell_type": "markdown",
   "metadata": {},
   "source": [
    "## Using xwidgets to create some convenient UI"
   ]
  },
  {
   "cell_type": "code",
   "execution_count": 5,
   "metadata": {
    "scrolled": false
   },
   "outputs": [],
   "source": [
    "#include \"xwidgets/xslider.hpp\"\n",
    "#include \"xwidgets/xbutton.hpp\"\n",
    "#include \"xwidgets/xcheckbox.hpp\"\n",
    "#include \"xwidgets/xoutput.hpp\"\n",
    "#include \"xwidgets/xbox.hpp\"\n",
    "\n",
    "auto radiusSlider = xw::slider<float>::initialize().value(16).min(1).max(100).step(1).description(\"Radius\").finalize();\n",
    "xw::button updateButton;\n",
    "updateButton.description = \"Update\";\n",
    "xw::checkbox invertCheckbox;\n",
    "invertCheckbox.description = \"Invert the filter\";\n",
    "invertCheckbox.value = false;\n",
    "xw::hbox box;\n",
    "box.add(radiusSlider);\n",
    "box.add(invertCheckbox);\n",
    "xw::output out;"
   ]
  },
  {
   "cell_type": "code",
   "execution_count": 6,
   "metadata": {
    "scrolled": false
   },
   "outputs": [
    {
     "data": {
      "application/vnd.jupyter.widget-view+json": {
       "model_id": "f697bde81a5f4225ab887254204dafcb",
       "version_major": 2,
       "version_minor": 0
      },
      "text/plain": [
       "A Jupyter widget with unique id: f697bde81a5f4225ab887254204dafcb"
      ]
     },
     "metadata": {},
     "output_type": "display_data"
    }
   ],
   "source": [
    "#include <xcpp/xdisplay.hpp>\n",
    "\n",
    "{\n",
    "    auto func = [&](){\n",
    "        // Using a scope guard to enable output capture\n",
    "        auto g = out.guard();\n",
    "        // Clear the previous output\n",
    "        xcpp::clear_output();\n",
    "\n",
    "        Mat filter = Mat::zeros(hummingbirdImage.size(), CV_32F);\n",
    "        double radius = radiusSlider.value();\n",
    "        \n",
    "        circle(filter, Point(filter.cols/2, filter.rows/2), radius, Scalar::all(1.0), -1, 8, 0);\n",
    "        if (invertCheckbox.value()) {\n",
    "            filter = 1.0 - filter;\n",
    "        }\n",
    "        Mat filteredImage = dft2dFilter(hummingbirdImage, filter);\n",
    "        displayImages(filter, filteredImage);\n",
    "        \n",
    "        //xcpp::display(radiusSlider);\n",
    "        //xcpp::display(invertCheckbox);\n",
    "        xcpp::display(box);\n",
    "        xcpp::display(updateButton);\n",
    "    };\n",
    "    \n",
    "    updateButton.on_click(func);\n",
    "    \n",
    "    func();\n",
    "}\n",
    "\n",
    "xcpp::display(out);"
   ]
  },
  {
   "cell_type": "markdown",
   "metadata": {},
   "source": [
    "Select the range of frequencies to be kept and click **Update**"
   ]
  },
  {
   "cell_type": "code",
   "execution_count": null,
   "metadata": {},
   "outputs": [],
   "source": []
  }
 ],
 "metadata": {
  "kernelspec": {
   "display_name": "C++14",
   "language": "C++14",
   "name": "xcpp14"
  },
  "language_info": {
   "codemirror_mode": "text/x-c++src",
   "file_extension": ".cpp",
   "mimetype": "text/x-c++src",
   "name": "c++",
   "version": "14"
  }
 },
 "nbformat": 4,
 "nbformat_minor": 4
}
